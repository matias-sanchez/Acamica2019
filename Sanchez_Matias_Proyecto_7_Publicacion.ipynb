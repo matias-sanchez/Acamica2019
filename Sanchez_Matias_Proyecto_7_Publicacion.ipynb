{
 "cells": [
  {
   "cell_type": "markdown",
   "metadata": {},
   "source": [
    "# Proyecto 7: Deploy de sistema de recomendación con Watson\n",
    "\n",
    "En este proyecto llevaremos a cabo la puesta en producción del modelo entrenado en el proyecto 5. Es decir, lo subirmos la nube de IBM y utilizando llamados a la API de Watson tendremos acceso a él para realizar predicciones."
   ]
  },
  {
   "cell_type": "code",
   "execution_count": 5,
   "metadata": {},
   "outputs": [],
   "source": [
    "import warnings\n",
    "warnings.filterwarnings(\"ignore\")\n",
    "import sklearn\n",
    "from sklearn.datasets import load_files\n",
    "moviedir = r'./dataset/movie_reviews' \n",
    "movie_reviews = load_files(moviedir, shuffle=True)"
   ]
  },
  {
   "cell_type": "code",
   "execution_count": 6,
   "metadata": {},
   "outputs": [],
   "source": [
    "from sklearn.model_selection import train_test_split\n",
    "X_train, X_test, y_train, y_test = train_test_split(\n",
    "    movie_reviews.data, movie_reviews.target, test_size = 0.20, stratify=movie_reviews.target, random_state = 12)"
   ]
  },
  {
   "cell_type": "code",
   "execution_count": 7,
   "metadata": {},
   "outputs": [],
   "source": [
    "from sklearn.externals import joblib\n",
    "eclf = joblib.load('sentiment.pkl') "
   ]
  },
  {
   "cell_type": "markdown",
   "metadata": {},
   "source": [
    "IBM Watson"
   ]
  },
  {
   "cell_type": "markdown",
   "metadata": {},
   "source": [
    "**1) Cargá** la biblioteca `WatsonMachineLearningAPIClient`"
   ]
  },
  {
   "cell_type": "code",
   "execution_count": 16,
   "metadata": {},
   "outputs": [
    {
     "name": "stdout",
     "output_type": "stream",
     "text": [
      "Requirement already up-to-date: watson-machine-learning-client in c:\\users\\matías\\anaconda3\\lib\\site-packages (1.0.371)\n",
      "Requirement already satisfied, skipping upgrade: pandas in c:\\users\\matías\\anaconda3\\lib\\site-packages (from watson-machine-learning-client) (0.24.2)\n",
      "Requirement already satisfied, skipping upgrade: certifi in c:\\users\\matías\\anaconda3\\lib\\site-packages (from watson-machine-learning-client) (2019.3.9)\n",
      "Requirement already satisfied, skipping upgrade: urllib3 in c:\\users\\matías\\anaconda3\\lib\\site-packages (from watson-machine-learning-client) (1.24.1)\n",
      "Requirement already satisfied, skipping upgrade: tqdm in c:\\users\\matías\\anaconda3\\lib\\site-packages (from watson-machine-learning-client) (4.31.1)\n",
      "Requirement already satisfied, skipping upgrade: requests in c:\\users\\matías\\anaconda3\\lib\\site-packages (from watson-machine-learning-client) (2.21.0)\n",
      "Requirement already satisfied, skipping upgrade: lomond in c:\\users\\matías\\anaconda3\\lib\\site-packages (from watson-machine-learning-client) (0.3.3)\n",
      "Requirement already satisfied, skipping upgrade: ibm-cos-sdk in c:\\users\\matías\\anaconda3\\lib\\site-packages (from watson-machine-learning-client) (2.5.1)\n",
      "Requirement already satisfied, skipping upgrade: tabulate in c:\\users\\matías\\anaconda3\\lib\\site-packages (from watson-machine-learning-client) (0.8.3)\n",
      "Requirement already satisfied, skipping upgrade: pytz>=2011k in c:\\users\\matías\\anaconda3\\lib\\site-packages (from pandas->watson-machine-learning-client) (2018.9)\n",
      "Requirement already satisfied, skipping upgrade: python-dateutil>=2.5.0 in c:\\users\\matías\\anaconda3\\lib\\site-packages (from pandas->watson-machine-learning-client) (2.8.0)\n",
      "Requirement already satisfied, skipping upgrade: numpy>=1.12.0 in c:\\users\\matías\\anaconda3\\lib\\site-packages (from pandas->watson-machine-learning-client) (1.16.2)\n",
      "Requirement already satisfied, skipping upgrade: chardet<3.1.0,>=3.0.2 in c:\\users\\matías\\anaconda3\\lib\\site-packages (from requests->watson-machine-learning-client) (3.0.4)\n",
      "Requirement already satisfied, skipping upgrade: idna<2.9,>=2.5 in c:\\users\\matías\\anaconda3\\lib\\site-packages (from requests->watson-machine-learning-client) (2.8)\n",
      "Requirement already satisfied, skipping upgrade: six>=1.10.0 in c:\\users\\matías\\anaconda3\\lib\\site-packages (from lomond->watson-machine-learning-client) (1.12.0)\n",
      "Requirement already satisfied, skipping upgrade: ibm-cos-sdk-s3transfer>=2.0.0 in c:\\users\\matías\\anaconda3\\lib\\site-packages (from ibm-cos-sdk->watson-machine-learning-client) (2.5.1)\n",
      "Requirement already satisfied, skipping upgrade: jmespath<1.0.0,>=0.7.1 in c:\\users\\matías\\anaconda3\\lib\\site-packages (from ibm-cos-sdk->watson-machine-learning-client) (0.9.4)\n",
      "Requirement already satisfied, skipping upgrade: ibm-cos-sdk-core>=2.0.0 in c:\\users\\matías\\anaconda3\\lib\\site-packages (from ibm-cos-sdk->watson-machine-learning-client) (2.5.1)\n",
      "Requirement already satisfied, skipping upgrade: docutils>=0.10 in c:\\users\\matías\\anaconda3\\lib\\site-packages (from ibm-cos-sdk-core>=2.0.0->ibm-cos-sdk->watson-machine-learning-client) (0.14)\n"
     ]
    }
   ],
   "source": [
    "!pip install watson-machine-learning-client --upgrade"
   ]
  },
  {
   "cell_type": "code",
   "execution_count": 42,
   "metadata": {},
   "outputs": [],
   "source": [
    "from watson_machine_learning_client import WatsonMachineLearningAPIClient"
   ]
  },
  {
   "cell_type": "markdown",
   "metadata": {},
   "source": [
    "**2) Creá** variable con las credenciales que necesita `Watson`. Ellas son: `url, access_key, username, password e instance_id`"
   ]
  },
  {
   "cell_type": "code",
   "execution_count": 43,
   "metadata": {},
   "outputs": [],
   "source": [
    "wml_credentials={\n",
    "  \"instance_id\": \"f237cf19-0174-41e4-aa23-1f58a6093eec\",\n",
    "  \"password\": \"b07dc237-329e-47d4-8076-4db5941b7442\",\n",
    "  \"url\": \"https://us-south.ml.cloud.ibm.com\",\n",
    "  \"username\": \"5a31f67f-c9dc-45c9-9d4a-57cafb771e57\"\n",
    "}"
   ]
  },
  {
   "cell_type": "markdown",
   "metadata": {},
   "source": [
    "**3) Declará** la variable `client` y guardá en ella al objeto `WatsonMachineLearningAPIClient` con las credenciales como parámetro"
   ]
  },
  {
   "cell_type": "code",
   "execution_count": 44,
   "metadata": {},
   "outputs": [],
   "source": [
    "client = WatsonMachineLearningAPIClient(wml_credentials)"
   ]
  },
  {
   "cell_type": "markdown",
   "metadata": {},
   "source": [
    "**4) Creá** una variable que guarde las propiedades del modelo. Datos del autor y nombre del proyecto."
   ]
  },
  {
   "cell_type": "code",
   "execution_count": 45,
   "metadata": {},
   "outputs": [],
   "source": [
    "metadata = {\n",
    "            client.repository.ModelMetaNames.NAME: 'Procesamiento_Natural_lenguaje',\n",
    "            client.repository.ModelMetaNames.FRAMEWORK_NAME: 'scikit-learn',\n",
    "            client.repository.ModelMetaNames.AUTHOR_NAME: 'Sánchez_Matías',\n",
    "            client.repository.ModelMetaNames.RUNTIME_NAME: 'python',\n",
    "            client.repository.ModelMetaNames.RUNTIME_VERSION: '3.5'\n",
    "}"
   ]
  },
  {
   "cell_type": "markdown",
   "metadata": {},
   "source": [
    "**5) Hacé** un pipeline que contenga como primer paso a un `TfidfVectorizer` y como segundo paso, al mejor modelo que hayas obtenido en el proyecto 5. **Entrená** con este pipeline."
   ]
  },
  {
   "cell_type": "code",
   "execution_count": 22,
   "metadata": {},
   "outputs": [
    {
     "data": {
      "text/plain": [
       "Pipeline(memory=None,\n",
       "     steps=[('tfidfvectorizer', TfidfVectorizer(analyzer='word', binary=False, decode_error='strict',\n",
       "        dtype=<class 'numpy.float64'>, encoding='utf-8', input='content',\n",
       "        lowercase=True, max_df=1.0, max_features=None, min_df=1,\n",
       "        ngram_range=(1, 1), norm='l2', preprocessor=None, smooth..., random_state=None))],\n",
       "         flatten_transform=None, n_jobs=None, voting='hard', weights=None))])"
      ]
     },
     "execution_count": 22,
     "metadata": {},
     "output_type": "execute_result"
    }
   ],
   "source": [
    "from sklearn.pipeline import make_pipeline\n",
    "from sklearn.feature_extraction.text import TfidfVectorizer\n",
    "vect = TfidfVectorizer()\n",
    "pipeline = make_pipeline(vect, eclf)\n",
    "pipeline.fit(X_train, y_train)"
   ]
  },
  {
   "cell_type": "markdown",
   "metadata": {},
   "source": [
    "**6) Subí** al modelo a IBM Cloud usando `client.repository.store_model` con los parámetros correctos."
   ]
  },
  {
   "cell_type": "code",
   "execution_count": 46,
   "metadata": {},
   "outputs": [],
   "source": [
    "published_model = client.repository.store_model(model=pipeline, \n",
    "                                                meta_props=metadata, \n",
    "                                                training_data=X_train, \n",
    "                                                training_target=y_train)"
   ]
  },
  {
   "cell_type": "markdown",
   "metadata": {},
   "source": [
    "**7) Obtené** el `uid` del modelo y guardalo en una variable."
   ]
  },
  {
   "cell_type": "code",
   "execution_count": 47,
   "metadata": {
    "scrolled": true
   },
   "outputs": [
    {
     "name": "stdout",
     "output_type": "stream",
     "text": [
      "------------------------------------  ------------------------------  ------------------------  -----------------\n",
      "GUID                                  NAME                            CREATED                   FRAMEWORK\n",
      "c7eb98aa-2cd4-4a86-b03b-a936196cc539  Procesamiento_Natural_lenguaje  2019-07-08T05:15:46.800Z  scikit-learn-0.20\n",
      "4d60208e-ca07-4eec-aaf5-b101407f3540  NLP                             2019-07-08T05:10:16.378Z  scikit-learn-0.20\n",
      "------------------------------------  ------------------------------  ------------------------  -----------------\n"
     ]
    }
   ],
   "source": [
    "models_details = client.repository.list_models()"
   ]
  },
  {
   "cell_type": "code",
   "execution_count": 49,
   "metadata": {},
   "outputs": [
    {
     "data": {
      "text/plain": [
       "'c7eb98aa-2cd4-4a86-b03b-a936196cc539'"
      ]
     },
     "execution_count": 49,
     "metadata": {},
     "output_type": "execute_result"
    }
   ],
   "source": [
    "guid = client.repository.get_model_uid(published_model)\n",
    "guid"
   ]
  },
  {
   "cell_type": "markdown",
   "metadata": {},
   "source": [
    "**8) Cargá** el modelo basado en su `uid` y utilizalo para realizar la predicción sobre el conjunto de test"
   ]
  },
  {
   "cell_type": "code",
   "execution_count": 50,
   "metadata": {},
   "outputs": [],
   "source": [
    "modelo = client.repository.load(guid)\n",
    "\n",
    "test_predictions = modelo.predict(X_test)"
   ]
  },
  {
   "cell_type": "markdown",
   "metadata": {},
   "source": [
    "**9) Mostrar** el `classification_report` obtenido"
   ]
  },
  {
   "cell_type": "code",
   "execution_count": 51,
   "metadata": {},
   "outputs": [
    {
     "name": "stdout",
     "output_type": "stream",
     "text": [
      "              precision    recall  f1-score   support\n",
      "\n",
      "           0       0.82      0.91      0.86       200\n",
      "           1       0.90      0.80      0.84       200\n",
      "\n",
      "   micro avg       0.85      0.85      0.85       400\n",
      "   macro avg       0.86      0.85      0.85       400\n",
      "weighted avg       0.86      0.85      0.85       400\n",
      "\n"
     ]
    }
   ],
   "source": [
    "from sklearn.metrics import classification_report\n",
    "\n",
    "print(classification_report(y_test, test_predictions))"
   ]
  }
 ],
 "metadata": {
  "kernelspec": {
   "display_name": "Python 3",
   "language": "python",
   "name": "python3"
  },
  "language_info": {
   "codemirror_mode": {
    "name": "ipython",
    "version": 3
   },
   "file_extension": ".py",
   "mimetype": "text/x-python",
   "name": "python",
   "nbconvert_exporter": "python",
   "pygments_lexer": "ipython3",
   "version": "3.7.3"
  }
 },
 "nbformat": 4,
 "nbformat_minor": 2
}
